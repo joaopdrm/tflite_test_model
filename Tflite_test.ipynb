{
  "nbformat": 4,
  "nbformat_minor": 2,
  "metadata": {
    "colab": {
      "name": "Tflite_test.ipynb",
      "provenance": []
    },
    "kernelspec": {
      "name": "python3",
      "display_name": "Python 3"
    }
  },
  "cells": [
    {
      "cell_type": "code",
      "execution_count": null,
      "source": [
        "!pip install tensorflow-gpu==1.15\n",
        "!pip install tf-nightly-gpu"
      ],
      "outputs": [],
      "metadata": {
        "id": "zYUfRiqgE39g"
      }
    },
    {
      "cell_type": "code",
      "execution_count": null,
      "source": [
        "import tensorflow as tf\n",
        "import os"
      ],
      "outputs": [],
      "metadata": {
        "id": "egaGbX_-E56d"
      }
    },
    {
      "cell_type": "code",
      "execution_count": null,
      "source": [
        "import cv2 as cv2\n",
        "from google.colab.patches import cv2_imshow\n",
        "import numpy as np\n",
        "import pathlib\n",
        "\n",
        "interpreter = tf.lite.Interpreter(model_path=\"/content/converted_model.tflite\")\n",
        "\n",
        "input_details = interpreter.get_input_details()\n",
        "output_details = interpreter.get_output_details()\n",
        "\n",
        "interpreter.allocate_tensors()\n",
        "\n",
        "def draw_rect(image, box):\n",
        "    y_min = int(300 * box[0])\n",
        "    x_min = int(300 * box[1])\n",
        "    y_max = int(300 * box[2])\n",
        "    x_max = int(300 * box[3])\n",
        "    \n",
        "    cv2.rectangle(image, (x_min, y_min),(x_max, y_max), (255, 0, 0), 2)\n",
        "\n",
        "for file in pathlib.Path('/content/drive/My Drive/dataset').iterdir():\n",
        "\n",
        "    if file.suffix != '.jpg' and file.suffix != '.png':\n",
        "        continue\n",
        "\n",
        "    img = cv2.imread(r\"{}\".format(file.resolve()))\n",
        "    new_img = cv2.resize(img, (300, 300))\n",
        "    interpreter.set_tensor(input_details[0]['index'], [new_img])\n",
        "\n",
        "    interpreter.invoke()\n",
        "\n",
        "    rects = interpreter.get_tensor(output_details[0]['index'])\n",
        "\n",
        "    scores = interpreter.get_tensor(output_details[2]['index'])\n",
        "\n",
        "#    print(rects.shape)\n",
        "  #    print(scores.shape)\n",
        "    max_v = 0\n",
        "    ind = 0\n",
        "    for i in range(len(rects[0])):\n",
        "      if max_v < np.max(rects[0][i]):\n",
        "        max_v = np.max(rects[0][i])\n",
        "        ind = i\n",
        "    # print(f\"max value: {max_v} at line {ind}\")\n",
        "    # print(scores[0][ind])\n",
        "    draw_rect(new_img,scores[0][ind])\n",
        "    # for index, score in enumerate(scores[0]):\n",
        "    #     if score.all() > 0.8:\n",
        "    #       draw_rect(new_img,rects[0][index])\n",
        "    cv2_imshow(new_img)\n",
        "    cv2.waitKey(0)"
      ],
      "outputs": [],
      "metadata": {
        "id": "rcTjsnGhEKc8",
        "colab": {
          "base_uri": "https://localhost:8080/",
          "height": 1000
        },
        "outputId": "9b44501f-cc57-42be-b3db-91349782727b"
      }
    }
  ]
}